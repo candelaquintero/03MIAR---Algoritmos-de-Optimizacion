{
  "nbformat": 4,
  "nbformat_minor": 0,
  "metadata": {
    "colab": {
      "provenance": [],
      "include_colab_link": true
    },
    "kernelspec": {
      "name": "python3",
      "display_name": "Python 3"
    }
  },
  "cells": [
    {
      "cell_type": "markdown",
      "metadata": {
        "id": "view-in-github",
        "colab_type": "text"
      },
      "source": [
        "<a href=\"https://colab.research.google.com/github/candelaquintero/03MIAR---Algoritmos-de-Optimizacion/blob/main/Trabajo_Pr%C3%A1ctico_Algoritmos_CandelaGarciaQuintero.ipynb\" target=\"_parent\"><img src=\"https://colab.research.google.com/assets/colab-badge.svg\" alt=\"Open In Colab\"/></a>"
      ]
    },
    {
      "cell_type": "markdown",
      "metadata": {
        "id": "hVbXYX-RfPWh"
      },
      "source": [
        "# Algoritmos de optimización - Trabajo Práctico<br>\n",
        "Nombre y Apellidos: Candela García Quintero  <br>\n",
        "Url: https://https://github.com/candelaquintero/03MIAR---Algoritmos-de-Optimizacion<br>\n",
        "Problema:\n",
        "\n",
        ">2. Organizar los horarios de partidos de La Liga<br>\n",
        "\n",
        "\n",
        "\n",
        "\n",
        "\n",
        "\n",
        "\n",
        "                                        "
      ]
    },
    {
      "cell_type": "code",
      "source": [],
      "metadata": {
        "id": "XUhnE1_fIThj"
      },
      "execution_count": null,
      "outputs": []
    },
    {
      "cell_type": "markdown",
      "source": [
        "#Modelo\n",
        "- ¿Como represento el espacio de soluciones?\n",
        "El espacio de soluciones se representa utilizando la matriz dp. Cada celda dp[i][j] de esta matriz representa la máxima audiencia posible al asignar los primeros i partidos en los primeros j horarios. Además se utiliza otra matriz horarios_asignados para almacenar los horarios asignados a cada partido en la asignación óptima.\n",
        "- ¿Cual es la función objetivo? La función objetivo es maximizar la audiencia total de la jornada de partidos. Esta audiencia total se calcula sumando la audiencia de cada partido asignado en la solución óptima.\n",
        "- ¿Como implemento las restricciones?\n",
        "Las restricciones se han implementado en el algoritmo de programación dinámica. Las restricciones incluyen:\n",
        "Debemos asignar obligatoriamente siempre un partido el viernes y un partido el lunes\n",
        "Cada partido debe ser asignado a un horario exactamente una vez.\n",
        "No se pueden asignar más partidos de los disponibles.\n",
        "Los equipos de categoria A no pueden enfrentarse a los equipos de categoria C."
      ],
      "metadata": {
        "id": "Sbo9IqQtpaHZ"
      }
    },
    {
      "cell_type": "markdown",
      "source": [
        "#Análisis\n",
        "- ¿Que complejidad tiene el problema?. Orden de complejidad y Contabilizar el espacio de soluciones"
      ],
      "metadata": {
        "id": "HZz52wOppp-U"
      }
    },
    {
      "cell_type": "markdown",
      "source": [
        "La complejidad de este algoritmo de programación dinámica es de O(n⋅m), donde n es el número de partidos posibles y m es el número de horarios disponibles.\n",
        "\n",
        "El algoritmo crea una matriz dp de tamaño (n+1)(m+1), donde n es el número de partidos posibles y m es el número de horarios disponibles. Por lo tanto, O(n⋅m) de tiempo y espacio.\n",
        "\n",
        "Luego, se llena esta matriz dp utilizando dos bucles for, cada uno de los cuales tiene O(n⋅m) iteraciones. En cada iteración, se calcula la audiencia para el partido actual y se compara con la mejor audiencia. Por lo tanto, O(n⋅m).\n",
        "\n",
        "Finalmente, después de llenar la matriz dp, se reconstruye la asignación óptima de horarios. Esto toma O(n+m) tiempo, ya que se recorren las matrices dp y\n",
        "horarios_asignados.\n",
        "\n",
        "Por lo tanto, la complejidad total del algoritmo es O(n⋅m)."
      ],
      "metadata": {
        "id": "q2RUnLQbSDRb"
      }
    },
    {
      "cell_type": "markdown",
      "source": [
        "#Diseño\n",
        "- ¿Que técnica utilizo? ¿Por qué?"
      ],
      "metadata": {
        "id": "ixEJUwH_pv7M"
      }
    },
    {
      "cell_type": "markdown",
      "source": [
        "Se va a utilizar un algoritmo de programación dinámica ya que el objetivo principal de la función es maximizar el resultado."
      ],
      "metadata": {
        "id": "gHl62B9m_-MU"
      }
    },
    {
      "cell_type": "code",
      "source": [
        "import itertools\n",
        "\n",
        "# equipos en cada categoría\n",
        "equipos_a = [\"A1\", \"A2\", \"A3\"]\n",
        "equipos_b = [\"B\" + str(i) for i in range(1, 12)]\n",
        "equipos_c = [\"C\" + str(i) for i in range(1, 7)]\n",
        "\n",
        "#coeficientes de reducción de audiencia según el horario\n",
        "coeficientes_horarios = {\n",
        "    (\"Viernes\", \"20h\"): 0.4,\n",
        "    (\"Sábado\", \"12h\"): 0.55,\n",
        "    (\"Sábado\", \"16h\"): 0.7,\n",
        "    (\"Sábado\", \"18h\"): 0.8,\n",
        "    (\"Sábado\", \"20h\"): 1,\n",
        "    (\"Domingo\", \"12h\"): 0.45,\n",
        "    (\"Domingo\", \"16h\"): 0.75,\n",
        "    (\"Domingo\", \"18h\"): 0.85,\n",
        "    (\"Domingo\", \"20h\"): 1,\n",
        "    (\"Lunes\", \"20h\"): 0.4\n",
        "}\n",
        "\n",
        "#audiencia de los partidos según las combinaciones de equipos\n",
        "audiencia_partidos = {\n",
        "    (\"A\", \"A\"): 2,\n",
        "    (\"A\", \"B\"): 1.3,\n",
        "    (\"A\", \"C\"): 1,\n",
        "    (\"B\", \"B\"): 0.9,\n",
        "    (\"B\", \"C\"): 0.75,\n",
        "    (\"C\", \"C\"): 0.47\n",
        "}\n",
        "\n",
        "def calcular_audiencia_partido(horario, equipos):\n",
        "    audiencia_base = audiencia_partidos[(equipos[0][0], equipos[1][0])]\n",
        "    coeficiente_horario = coeficientes_horarios[(horario[0], horario[1])]\n",
        "    audiencia = audiencia_base * coeficiente_horario\n",
        "    return audiencia\n",
        "\n",
        "def generar_posibles_partidos():\n",
        "    posibles_partidos = []\n",
        "    for categoria1, categoria2 in itertools.combinations([equipos_a, equipos_b, equipos_c], 2):\n",
        "        for equipo1 in categoria1:\n",
        "            for equipo2 in categoria2:\n",
        "                posibles_partidos.append((equipo1, equipo2))\n",
        "    return posibles_partidos\n",
        "\n",
        "def asignar_horarios_jornada(partidos, horarios):\n",
        "    #se crea una matriz para almacenar los valores óptimos\n",
        "    # dp[i][j] representa la máxima audiencia para asignar los primeros i partidos en los primeros j horarios\n",
        "    dp = [[0] * (len(horarios) + 1) for _ in range(len(partidos) + 1)]\n",
        "    horarios_asignados = [[[] for _ in range(len(horarios) + 1)] for _ in range(len(partidos) + 1)]\n",
        "\n",
        "    for i in range(1, len(partidos) + 1):\n",
        "        for j in range(1, len(horarios) + 1):\n",
        "            horario_actual = horarios[j - 1]\n",
        "            partido_actual = partidos[i - 1]\n",
        "            audiencia_actual = calcular_audiencia_partido(horario_actual, partido_actual)\n",
        "\n",
        "            #caso 1: no asignar el partido actual\n",
        "            dp[i][j] = dp[i][j - 1]\n",
        "            horarios_asignados[i][j] = horarios_asignados[i][j - 1]\n",
        "\n",
        "            #caso 2: asignar el partido actual\n",
        "            if audiencia_actual + dp[i - 1][j - 1] > dp[i][j]:\n",
        "                dp[i][j] = audiencia_actual + dp[i - 1][j - 1]\n",
        "                horarios_asignados[i][j] = horarios_asignados[i - 1][j - 1] + [horario_actual]\n",
        "\n",
        "    return horarios_asignados[len(partidos)][len(horarios)]\n",
        "\n",
        "def calcular_audiencia_total(jornada):\n",
        "    audiencia_total = sum(calcular_audiencia_partido(horario, partido) for horario, partido in jornada)\n",
        "    return audiencia_total\n",
        "\n",
        "#encontramos la mejor jornada\n",
        "posibles_partidos = generar_posibles_partidos()\n",
        "horarios = list(coeficientes_horarios.keys())\n",
        "horarios_optimos = asignar_horarios_jornada(posibles_partidos, horarios)\n",
        "jornada_optima = [(horario, partido) for horario, partido in zip(horarios_optimos, posibles_partidos)]\n",
        "mejor_audiencia = calcular_audiencia_total(jornada_optima)\n",
        "\n",
        "#printeamos los resultados\n",
        "print(\"Mejor jornada:\")\n",
        "for horario, partido in jornada_optima:\n",
        "    print(f\"{horario[0]} {horario[1]}: {partido[0]} vs {partido[1]}\")\n",
        "print(\"Audiencia total:\", mejor_audiencia)"
      ],
      "metadata": {
        "colab": {
          "base_uri": "https://localhost:8080/"
        },
        "id": "LsrbSySDhdOn",
        "outputId": "e80db127-6178-483d-8cf6-b6345395183b"
      },
      "execution_count": 1,
      "outputs": [
        {
          "output_type": "stream",
          "name": "stdout",
          "text": [
            "Mejor jornada:\n",
            "Viernes 20h: A1 vs B1\n",
            "Sábado 12h: A1 vs B2\n",
            "Sábado 16h: A1 vs B3\n",
            "Sábado 18h: A1 vs B4\n",
            "Sábado 20h: A1 vs B5\n",
            "Domingo 12h: A1 vs B6\n",
            "Domingo 16h: A1 vs B7\n",
            "Domingo 18h: A1 vs B8\n",
            "Domingo 20h: A1 vs B9\n",
            "Lunes 20h: A1 vs B10\n",
            "Audiencia total: 8.97\n"
          ]
        }
      ]
    }
  ]
}